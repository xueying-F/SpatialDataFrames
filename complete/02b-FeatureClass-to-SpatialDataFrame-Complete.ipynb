{
 "cells": [
  {
   "cell_type": "markdown",
   "metadata": {},
   "source": [
    "# Converting Feature Classes to Spatial Dataframes\n"
   ]
  },
  {
   "cell_type": "markdown",
   "metadata": {},
   "source": [
    "---\n",
    "### Using the ArcGIS Python API\n",
    "* https://esri.github.io/arcgis-python-api/apidoc/html/arcgis.features.toc.html?#arcgis.features.GeoAccessor.from_featureclass\n",
    "* https://developers.arcgis.com/python/guide/introduction-to-the-spatially-enabled-dataframe/#Accessing-local-GIS-data\n",
    "\n",
    "*The ArcGIS API can also easily import shapefiles into spatially enabled dataframes. This is a useful way to work with local data with the API (vs. using on-line content).*"
   ]
  },
  {
   "cell_type": "code",
   "execution_count": 1,
   "metadata": {},
   "outputs": [],
   "source": [
    "#Import pandas and the arcgis package\n",
    "import pandas as pd\n",
    "import arcgis"
   ]
  },
  {
   "cell_type": "code",
   "execution_count": 2,
   "metadata": {},
   "outputs": [],
   "source": [
    "#Get the HUC filename\n",
    "theShapefile = '../data/12Digit_HUC_Subwatersheds.shp'"
   ]
  },
  {
   "cell_type": "code",
   "execution_count": 3,
   "metadata": {},
   "outputs": [],
   "source": [
    "#Read the shapefile into a sdf\n",
    "sdfHUC12 = pd.DataFrame.spatial.from_featureclass(theShapefile)"
   ]
  },
  {
   "cell_type": "markdown",
   "metadata": {},
   "source": [
    "### Explore the spatial dataframe"
   ]
  },
  {
   "cell_type": "code",
   "execution_count": 4,
   "metadata": {},
   "outputs": [
    {
     "name": "stdout",
     "output_type": "stream",
     "text": [
      "<class 'pandas.core.frame.DataFrame'>\n",
      "RangeIndex: 1767 entries, 0 to 1766\n",
      "Data columns (total 15 columns):\n",
      " #   Column      Non-Null Count  Dtype   \n",
      "---  ------      --------------  -----   \n",
      " 0   index       1767 non-null   int64   \n",
      " 1   FID         1767 non-null   int64   \n",
      " 2   HUC_8       1767 non-null   object  \n",
      " 3   HUC_10      1767 non-null   object  \n",
      " 4   HUC_12      1767 non-null   object  \n",
      " 5   ACRES       1767 non-null   int64   \n",
      " 6   HU_10_NAME  1767 non-null   object  \n",
      " 7   HU_12_NAME  1767 non-null   object  \n",
      " 8   META_ID     1767 non-null   object  \n",
      " 9   STATES      1767 non-null   object  \n",
      " 10  Basin       1767 non-null   object  \n",
      " 11  Dig_8       1767 non-null   int64   \n",
      " 12  DWQ_Basin   1767 non-null   object  \n",
      " 13  SHAPE       1767 non-null   geometry\n",
      " 14  OBJECTID    1767 non-null   int32   \n",
      "dtypes: geometry(1), int32(1), int64(4), object(9)\n",
      "memory usage: 200.3+ KB\n"
     ]
    }
   ],
   "source": [
    "#Show column info\n",
    "sdfHUC12.info()"
   ]
  },
  {
   "cell_type": "code",
   "execution_count": 5,
   "metadata": {},
   "outputs": [
    {
     "data": {
      "text/html": [
       "<div>\n",
       "<style scoped>\n",
       "    .dataframe tbody tr th:only-of-type {\n",
       "        vertical-align: middle;\n",
       "    }\n",
       "\n",
       "    .dataframe tbody tr th {\n",
       "        vertical-align: top;\n",
       "    }\n",
       "\n",
       "    .dataframe thead th {\n",
       "        text-align: right;\n",
       "    }\n",
       "</style>\n",
       "<table border=\"1\" class=\"dataframe\">\n",
       "  <thead>\n",
       "    <tr style=\"text-align: right;\">\n",
       "      <th></th>\n",
       "      <th>index</th>\n",
       "      <th>FID</th>\n",
       "      <th>HUC_8</th>\n",
       "      <th>HUC_10</th>\n",
       "      <th>HUC_12</th>\n",
       "      <th>ACRES</th>\n",
       "      <th>HU_10_NAME</th>\n",
       "      <th>HU_12_NAME</th>\n",
       "      <th>META_ID</th>\n",
       "      <th>STATES</th>\n",
       "      <th>Basin</th>\n",
       "      <th>Dig_8</th>\n",
       "      <th>DWQ_Basin</th>\n",
       "      <th>SHAPE</th>\n",
       "      <th>OBJECTID</th>\n",
       "    </tr>\n",
       "  </thead>\n",
       "  <tbody>\n",
       "    <tr>\n",
       "      <th>0</th>\n",
       "      <td>0</td>\n",
       "      <td>1</td>\n",
       "      <td>03040208</td>\n",
       "      <td>0304020802</td>\n",
       "      <td>030402080205</td>\n",
       "      <td>7321</td>\n",
       "      <td>Shallotte River</td>\n",
       "      <td>Holden Beach-Long Bay</td>\n",
       "      <td>NC01</td>\n",
       "      <td>NC</td>\n",
       "      <td>LBR</td>\n",
       "      <td>3040208</td>\n",
       "      <td>Lumber</td>\n",
       "      <td>{\"rings\": [[[[-78.3872405238257, 33.8981038497...</td>\n",
       "      <td>0</td>\n",
       "    </tr>\n",
       "    <tr>\n",
       "      <th>1</th>\n",
       "      <td>1</td>\n",
       "      <td>2</td>\n",
       "      <td>03030005</td>\n",
       "      <td>0303000508</td>\n",
       "      <td>030300050804</td>\n",
       "      <td>18971</td>\n",
       "      <td>Cape Fear River</td>\n",
       "      <td>Frying Pan Shoals-Cape Fear River</td>\n",
       "      <td>NC01</td>\n",
       "      <td>NC</td>\n",
       "      <td>CPF</td>\n",
       "      <td>3030005</td>\n",
       "      <td>Cape Fear</td>\n",
       "      <td>{\"rings\": [[[[-78.0131516135538, 33.8884765987...</td>\n",
       "      <td>1</td>\n",
       "    </tr>\n",
       "    <tr>\n",
       "      <th>2</th>\n",
       "      <td>2</td>\n",
       "      <td>3</td>\n",
       "      <td>03040208</td>\n",
       "      <td>0304020801</td>\n",
       "      <td>030402080108</td>\n",
       "      <td>8639</td>\n",
       "      <td>Lockwoods Folly River</td>\n",
       "      <td>Town of Long Beach-Long Beach</td>\n",
       "      <td>NC01</td>\n",
       "      <td>NC</td>\n",
       "      <td>LBR</td>\n",
       "      <td>3040208</td>\n",
       "      <td>Lumber</td>\n",
       "      <td>{\"rings\": [[[-78.1063420966503, 33.90836853281...</td>\n",
       "      <td>2</td>\n",
       "    </tr>\n",
       "    <tr>\n",
       "      <th>3</th>\n",
       "      <td>3</td>\n",
       "      <td>4</td>\n",
       "      <td>03040208</td>\n",
       "      <td>0304020802</td>\n",
       "      <td>030402080201</td>\n",
       "      <td>9136</td>\n",
       "      <td>Shallotte River</td>\n",
       "      <td>Upper Shallotte River</td>\n",
       "      <td>NC01</td>\n",
       "      <td>NC</td>\n",
       "      <td>LBR</td>\n",
       "      <td>3040208</td>\n",
       "      <td>Lumber</td>\n",
       "      <td>{\"rings\": [[[-78.444038322307, 33.979568865779...</td>\n",
       "      <td>3</td>\n",
       "    </tr>\n",
       "    <tr>\n",
       "      <th>4</th>\n",
       "      <td>4</td>\n",
       "      <td>5</td>\n",
       "      <td>03040208</td>\n",
       "      <td>0304020801</td>\n",
       "      <td>030402080107</td>\n",
       "      <td>7610</td>\n",
       "      <td>Lockwoods Folly River</td>\n",
       "      <td>Town of Long Beach-Montgomery Slough</td>\n",
       "      <td>NC01</td>\n",
       "      <td>NC</td>\n",
       "      <td>LBR</td>\n",
       "      <td>3040208</td>\n",
       "      <td>Lumber</td>\n",
       "      <td>{\"rings\": [[[-78.1477707348721, 33.95041773840...</td>\n",
       "      <td>4</td>\n",
       "    </tr>\n",
       "  </tbody>\n",
       "</table>\n",
       "</div>"
      ],
      "text/plain": [
       "   index  FID     HUC_8      HUC_10        HUC_12  ACRES  \\\n",
       "0      0    1  03040208  0304020802  030402080205   7321   \n",
       "1      1    2  03030005  0303000508  030300050804  18971   \n",
       "2      2    3  03040208  0304020801  030402080108   8639   \n",
       "3      3    4  03040208  0304020802  030402080201   9136   \n",
       "4      4    5  03040208  0304020801  030402080107   7610   \n",
       "\n",
       "              HU_10_NAME                            HU_12_NAME META_ID STATES  \\\n",
       "0        Shallotte River                 Holden Beach-Long Bay    NC01     NC   \n",
       "1        Cape Fear River     Frying Pan Shoals-Cape Fear River    NC01     NC   \n",
       "2  Lockwoods Folly River         Town of Long Beach-Long Beach    NC01     NC   \n",
       "3        Shallotte River                 Upper Shallotte River    NC01     NC   \n",
       "4  Lockwoods Folly River  Town of Long Beach-Montgomery Slough    NC01     NC   \n",
       "\n",
       "  Basin    Dig_8  DWQ_Basin  \\\n",
       "0   LBR  3040208     Lumber   \n",
       "1   CPF  3030005  Cape Fear   \n",
       "2   LBR  3040208     Lumber   \n",
       "3   LBR  3040208     Lumber   \n",
       "4   LBR  3040208     Lumber   \n",
       "\n",
       "                                               SHAPE  OBJECTID  \n",
       "0  {\"rings\": [[[[-78.3872405238257, 33.8981038497...         0  \n",
       "1  {\"rings\": [[[[-78.0131516135538, 33.8884765987...         1  \n",
       "2  {\"rings\": [[[-78.1063420966503, 33.90836853281...         2  \n",
       "3  {\"rings\": [[[-78.444038322307, 33.979568865779...         3  \n",
       "4  {\"rings\": [[[-78.1477707348721, 33.95041773840...         4  "
      ]
     },
     "execution_count": 5,
     "metadata": {},
     "output_type": "execute_result"
    }
   ],
   "source": [
    "#Show the first 5 rows\n",
    "sdfHUC12.head()"
   ]
  },
  {
   "cell_type": "code",
   "execution_count": 6,
   "metadata": {},
   "outputs": [
    {
     "data": {
      "text/plain": [
       "{'wkid': 4326}"
      ]
     },
     "execution_count": 6,
     "metadata": {},
     "output_type": "execute_result"
    }
   ],
   "source": [
    "#Show the spatial reference\n",
    "sdfHUC12.spatial.sr"
   ]
  },
  {
   "cell_type": "code",
   "execution_count": 8,
   "metadata": {},
   "outputs": [
    {
     "data": {
      "text/plain": [
       "<AxesSubplot:>"
      ]
     },
     "execution_count": 8,
     "metadata": {},
     "output_type": "execute_result"
    },
    {
     "data": {
      "image/png": "[encoded data removed]",
      "text/plain": [
       "<Figure size 432x288 with 1 Axes>"
      ]
     },
     "metadata": {
      "needs_background": "light"
     },
     "output_type": "display_data"
    }
   ],
   "source": [
    "#Plot the data\n",
    "sdfHUC12.plot()"
   ]
  },
  {
   "cell_type": "markdown",
   "metadata": {},
   "source": [
    "### Create a spatial dataframe from a web service\n",
    "Recall the source of the NC_NPDES.json file used in the last exercise. The data came from an ESRI web service (that we'll discuss more about later), located here:  \n",
    "https://services.nconemap.gov/secure/rest/services/NC1Map_Environment/FeatureServer/4  \n",
    "\n",
    "The ArcGIS Python API can read these services directly. "
   ]
  },
  {
   "cell_type": "code",
   "execution_count": null,
   "metadata": {},
   "outputs": [],
   "source": [
    "#Set the URL as a variable\n",
    "theURL = 'https://services.nconemap.gov/secure/rest/services/NC1Map_Environment/FeatureServer/4'"
   ]
  },
  {
   "cell_type": "code",
   "execution_count": null,
   "metadata": {},
   "outputs": [],
   "source": [
    "#Create a layer object from the service\n",
    "feature_layer = arcgis.features.FeatureLayer(theURL)\n",
    "type(feature_layer)"
   ]
  },
  {
   "cell_type": "code",
   "execution_count": null,
   "metadata": {},
   "outputs": [],
   "source": [
    "#We can convert this to a spatial dataframe\n",
    "sdf_NPDES = pd.DataFrame.spatial.from_layer(feature_layer)"
   ]
  },
  {
   "cell_type": "code",
   "execution_count": null,
   "metadata": {},
   "outputs": [],
   "source": [
    "#Plot the spatial dataframe\n",
    "sdf_NPDES.spatial.plot()"
   ]
  }
 ],
 "metadata": {
  "kernelspec": {
   "display_name": "Python 3",
   "language": "python",
   "name": "python3"
  },
  "language_info": {
   "codemirror_mode": {
    "name": "ipython",
    "version": 3
   },
   "file_extension": ".py",
   "mimetype": "text/x-python",
   "name": "python",
   "nbconvert_exporter": "python",
   "pygments_lexer": "ipython3",
   "version": "3.6.12"
  }
 },
 "nbformat": 4,
 "nbformat_minor": 2
}
